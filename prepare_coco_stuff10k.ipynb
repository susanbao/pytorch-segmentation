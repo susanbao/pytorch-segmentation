{
 "cells": [
  {
   "cell_type": "code",
   "execution_count": 7,
   "id": "a2b98f2f-809e-478a-a9e7-f7b6b08c64dd",
   "metadata": {
    "tags": []
   },
   "outputs": [],
   "source": [
    "import numpy as np\n",
    "from PIL import Image\n",
    "import os"
   ]
  },
  {
   "cell_type": "code",
   "execution_count": 14,
   "id": "48297de2-872f-42c9-83b0-2070d0a08d6d",
   "metadata": {
    "tags": []
   },
   "outputs": [],
   "source": [
    "file_name = 'all.txt'\n",
    "root_path = \"/data/active_testing/active_testing_seg/datasets/coco10k\"\n",
    "file_list = os.path.join(root_path, 'imageLists', file_name)\n",
    "files = [name.rstrip() for name in tuple(open(file_list, \"r\"))]"
   ]
  },
  {
   "cell_type": "code",
   "execution_count": 15,
   "id": "a1e46969-259b-434e-8440-a54cab4168b2",
   "metadata": {
    "tags": []
   },
   "outputs": [
    {
     "data": {
      "text/plain": [
       "10000"
      ]
     },
     "execution_count": 15,
     "metadata": {},
     "output_type": "execute_result"
    }
   ],
   "source": [
    "len(files)"
   ]
  },
  {
   "cell_type": "code",
   "execution_count": 16,
   "id": "da039649-3c9b-4bf1-83fc-caf4c81a559b",
   "metadata": {
    "tags": []
   },
   "outputs": [
    {
     "name": "stdout",
     "output_type": "stream",
     "text": [
      "COCO_train2014_000000000821\n",
      "COCO_train2014_000000030349\n",
      "COCO_train2014_000000126531\n",
      "COCO_train2014_000000134918\n",
      "COCO_train2014_000000140092\n",
      "COCO_train2014_000000155083\n",
      "COCO_train2014_000000176397\n",
      "COCO_train2014_000000207339\n",
      "COCO_train2014_000000211867\n",
      "COCO_train2014_000000296884\n",
      "COCO_train2014_000000341892\n",
      "COCO_train2014_000000349069\n",
      "COCO_train2014_000000361516\n",
      "COCO_train2014_000000369966\n",
      "COCO_train2014_000000384910\n",
      "COCO_train2014_000000389984\n",
      "COCO_train2014_000000410498\n",
      "COCO_train2014_000000421613\n",
      "COCO_train2014_000000434837\n",
      "COCO_train2014_000000445845\n",
      "COCO_train2014_000000454000\n",
      "COCO_train2014_000000505962\n",
      "COCO_train2014_000000555583\n"
     ]
    }
   ],
   "source": [
    "text_file = open(\"/data/active_testing/active_testing_seg/datasets/coco10k/imageLists/\" + file_name, \"wt\")\n",
    "for image_id in files:\n",
    "    image_path = os.path.join(root_path, 'images', image_id + '.jpg')\n",
    "    image = np.asarray(Image.open(image_path), dtype=np.float32)\n",
    "    if len(image.shape) !=3:\n",
    "        print(image_id)\n",
    "        continue\n",
    "    n = text_file.write(image_id + \"\\n\")\n",
    "text_file.close()"
   ]
  },
  {
   "cell_type": "markdown",
   "id": "0efacda7-04b5-4836-9fd9-02ad278a4cdd",
   "metadata": {},
   "source": [
    "## VOC image data show"
   ]
  },
  {
   "cell_type": "code",
   "execution_count": 2,
   "id": "8b3ad104-1d04-4252-bf8c-f005c171a9ce",
   "metadata": {
    "tags": []
   },
   "outputs": [],
   "source": [
    "root = \"/workspace/datasets/PascalVOC/VOCdevkit/VOC2012\"\n",
    "image_id = \"2007_000027\"\n",
    "image_dir = os.path.join(root, 'JPEGImages')\n",
    "image_path = os.path.join(image_dir, image_id + '.jpg')\n",
    "image = np.asarray(Image.open(image_path), dtype=np.float32)"
   ]
  },
  {
   "cell_type": "code",
   "execution_count": 5,
   "id": "c44eca9d-e2e2-43de-81ba-23be50f47954",
   "metadata": {
    "tags": []
   },
   "outputs": [
    {
     "data": {
      "text/plain": [
       "0.0"
      ]
     },
     "execution_count": 5,
     "metadata": {},
     "output_type": "execute_result"
    }
   ],
   "source": [
    "image.min()"
   ]
  },
  {
   "cell_type": "code",
   "execution_count": null,
   "id": "145e7253-c2a3-492e-9264-b694c7e450ce",
   "metadata": {},
   "outputs": [],
   "source": []
  }
 ],
 "metadata": {
  "kernelspec": {
   "display_name": "Python 3 (ipykernel)",
   "language": "python",
   "name": "python3"
  },
  "language_info": {
   "codemirror_mode": {
    "name": "ipython",
    "version": 3
   },
   "file_extension": ".py",
   "mimetype": "text/x-python",
   "name": "python",
   "nbconvert_exporter": "python",
   "pygments_lexer": "ipython3",
   "version": "3.7.16"
  }
 },
 "nbformat": 4,
 "nbformat_minor": 5
}
