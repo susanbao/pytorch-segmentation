{
 "cells": [
  {
   "cell_type": "markdown",
   "id": "70e6a0aa-10b8-4517-88e2-5eed81358c23",
   "metadata": {},
   "source": [
    "# Compute the q value for ASE method\n",
    "The active testing can use these q values. Use uncertainty quantification method: Dropout with 12 runs"
   ]
  },
  {
   "cell_type": "code",
   "execution_count": 6,
   "id": "002abfb3-5fee-4bc8-b586-e524f6f3be28",
   "metadata": {
    "tags": []
   },
   "outputs": [],
   "source": [
    "import typing\n",
    "import io\n",
    "import os\n",
    "\n",
    "import torch\n",
    "import numpy as np\n",
    "import cv2\n",
    "import matplotlib.pyplot as plt\n",
    "import json\n",
    "from scipy.special import softmax\n",
    "\n",
    "def read_one_results(path):\n",
    "    with open(path, \"r\") as outfile:\n",
    "        data = json.load(outfile)\n",
    "    return data\n",
    "\n",
    "def write_one_results(json_data, path):\n",
    "    with open(path, \"w\") as outfile:\n",
    "        json.dump(json_data, outfile)\n",
    "\n",
    "def np_read(file):\n",
    "    with open(file, \"rb\") as outfile:\n",
    "        data = np.load(outfile)\n",
    "    return data\n",
    "\n",
    "def np_write(data, file):\n",
    "    with open(file, \"wb\") as outfile:\n",
    "        np.save(outfile, data)\n",
    "\n",
    "def check_path_exist(path):\n",
    "    if not os.path.exists(path):\n",
    "        os.makedirs(path)"
   ]
  },
  {
   "cell_type": "code",
   "execution_count": 2,
   "id": "4e0d09b8-b544-4aa8-9b84-08ee954a0329",
   "metadata": {
    "tags": []
   },
   "outputs": [],
   "source": [
    "base_path = \"./pro_data/PSPNet_VOC/val/\"\n",
    "store_path = base_path + \"ase\"\n",
    "output_list = [\"output\" + str(i) for i in range(1,12)]\n",
    "ego_output_path = base_path + \"output\"\n",
    "file_list = os.listdir(base_path + \"output\")\n",
    "check_path_exist(store_path)"
   ]
  },
  {
   "cell_type": "code",
   "execution_count": 8,
   "id": "5085efc3-3078-4319-bb85-a66f87426f1a",
   "metadata": {
    "tags": []
   },
   "outputs": [],
   "source": [
    "for file in file_list:\n",
    "    ego_output = np_read(os.path.join(ego_output_path,file))\n",
    "    ego_output = softmax(ego_output)\n",
    "    dropout_output = np.expand_dims(np.copy(ego_output), axis=0)\n",
    "    for output_path in output_list:\n",
    "        temp_output = np_read(os.path.join(base_path + output_path,file))\n",
    "        temp_output = softmax(temp_output)\n",
    "        dropout_output = np.concatenate((dropout_output, np.expand_dims(np.copy(temp_output), axis=0)), axis=0)\n",
    "    pi_output = dropout_output.mean(axis=0)\n",
    "    ase_loss = (-1 * (pi_output * np.log(ego_output))).sum(axis=1)\n",
    "    np_write(ase_loss, os.path.join(store_path, file))"
   ]
  },
  {
   "cell_type": "code",
   "execution_count": 7,
   "id": "fcde6d9d-1396-464e-9d97-847215fba9cd",
   "metadata": {
    "tags": []
   },
   "outputs": [],
   "source": []
  },
  {
   "cell_type": "code",
   "execution_count": null,
   "id": "ac4ce7bc-45b7-48e5-b650-f733b3e7302f",
   "metadata": {},
   "outputs": [],
   "source": []
  }
 ],
 "metadata": {
  "kernelspec": {
   "display_name": "Python 3 (ipykernel)",
   "language": "python",
   "name": "python3"
  },
  "language_info": {
   "codemirror_mode": {
    "name": "ipython",
    "version": 3
   },
   "file_extension": ".py",
   "mimetype": "text/x-python",
   "name": "python",
   "nbconvert_exporter": "python",
   "pygments_lexer": "ipython3",
   "version": "3.7.13"
  }
 },
 "nbformat": 4,
 "nbformat_minor": 5
}
