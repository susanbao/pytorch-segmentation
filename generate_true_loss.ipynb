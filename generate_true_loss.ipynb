{
 "cells": [
  {
   "cell_type": "code",
   "execution_count": 38,
   "id": "f7ef5a8f-c87e-41d0-be66-cc47746c22f1",
   "metadata": {
    "tags": []
   },
   "outputs": [],
   "source": [
    "import argparse\n",
    "import datetime\n",
    "import json\n",
    "import random\n",
    "import time\n",
    "from pathlib import Path\n",
    "import os, sys\n",
    "import numpy as np\n",
    "from utils import losses\n",
    "import torch\n",
    "from utils.utils import *"
   ]
  },
  {
   "cell_type": "code",
   "execution_count": 34,
   "id": "88c9864f-300e-47b6-8cf7-30a4f0085023",
   "metadata": {
    "tags": []
   },
   "outputs": [],
   "source": [
    "base_path = \"./pro_data/PSPNet_VOC/val/\"\n",
    "files = os.listdir(base_path + \"output\")\n",
    "cross_entropy_loss_func = losses.CrossEntropyLoss2d(reduction=\"none\")"
   ]
  },
  {
   "cell_type": "code",
   "execution_count": 35,
   "id": "d94e2f7d-c9da-451b-b36b-dd4680133952",
   "metadata": {
    "tags": []
   },
   "outputs": [],
   "source": [
    "true_losses = None\n",
    "for file in files:\n",
    "    output = np_read(base_path + f\"output/{file}\")\n",
    "    target = np_read(base_path + f\"target/{file}\")\n",
    "    losses = cross_entropy_loss_func(torch.from_numpy(output), torch.from_numpy(target))\n",
    "    losses = losses.numpy()\n",
    "    losses = losses.mean(axis=1).mean(axis=1)\n",
    "    if true_losses is None:\n",
    "        true_losses = losses\n",
    "    else:\n",
    "        true_losses = np.concatenate((true_losses, losses), axis=0)"
   ]
  },
  {
   "cell_type": "code",
   "execution_count": 37,
   "id": "5e2f6460-ef4f-4879-9023-4aaca09ab86d",
   "metadata": {
    "tags": []
   },
   "outputs": [],
   "source": [
    "np_write(true_losses, base_path + \"image_true_losses.npy\")"
   ]
  },
  {
   "cell_type": "code",
   "execution_count": 36,
   "id": "c1d134d8-3341-4609-a6b8-134ba8dabeed",
   "metadata": {
    "tags": []
   },
   "outputs": [
    {
     "data": {
      "text/plain": [
       "(1464,)"
      ]
     },
     "execution_count": 36,
     "metadata": {},
     "output_type": "execute_result"
    }
   ],
   "source": [
    "true_losses.shape"
   ]
  },
  {
   "cell_type": "code",
   "execution_count": 39,
   "id": "603af044-6fd1-4d36-8415-38eb49b7136f",
   "metadata": {
    "tags": []
   },
   "outputs": [
    {
     "data": {
      "text/plain": [
       "(0.05269893, 0.053517897)"
      ]
     },
     "execution_count": 39,
     "metadata": {},
     "output_type": "execute_result"
    }
   ],
   "source": [
    "true_losses.mean(), true_losses.std()"
   ]
  },
  {
   "cell_type": "code",
   "execution_count": 40,
   "id": "2b69fbe3-bcbe-4e33-97c0-8734ddb07389",
   "metadata": {
    "tags": []
   },
   "outputs": [],
   "source": [
    "z = torch.zeros((3,4,5))"
   ]
  },
  {
   "cell_type": "code",
   "execution_count": 41,
   "id": "67d602ff-17a8-4429-9a4a-81d144085601",
   "metadata": {
    "tags": []
   },
   "outputs": [
    {
     "data": {
      "text/plain": [
       "torch.Size([4, 5])"
      ]
     },
     "execution_count": 41,
     "metadata": {},
     "output_type": "execute_result"
    }
   ],
   "source": [
    "z[0].shape"
   ]
  },
  {
   "cell_type": "code",
   "execution_count": null,
   "id": "aa4763c9-a004-4160-a1cb-c4b7dcdf9b53",
   "metadata": {},
   "outputs": [],
   "source": []
  }
 ],
 "metadata": {
  "kernelspec": {
   "display_name": "Python 3 (ipykernel)",
   "language": "python",
   "name": "python3"
  },
  "language_info": {
   "codemirror_mode": {
    "name": "ipython",
    "version": 3
   },
   "file_extension": ".py",
   "mimetype": "text/x-python",
   "name": "python",
   "nbconvert_exporter": "python",
   "pygments_lexer": "ipython3",
   "version": "3.7.13"
  }
 },
 "nbformat": 4,
 "nbformat_minor": 5
}
